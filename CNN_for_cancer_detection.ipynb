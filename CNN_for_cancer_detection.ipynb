{
  "cells": [
    {
      "cell_type": "markdown",
      "metadata": {
        "id": "3DR-eO17geWu"
      },
      "source": [
        " ### **Convolutional Neural Network for cancer detection**"
      ]
    },
    {
      "cell_type": "markdown",
      "metadata": {
        "id": "OhbPbEd2ig0y"
      },
      "source": [
        "The images are classified into two classes:\n",
        "1. benign(The tumor doesn’t contain cancerous cells)\n",
        "\n",
        "2. maligant(The tumor contains cancerous cells)\n",
        "\n",
        "Our model uses convolutional neural networks to predict the tumour as either benign or maligant\n"
      ]
    },
    {
      "cell_type": "markdown",
      "metadata": {
        "id": "EMefrVPCg-60"
      },
      "source": [
        "###Importing libraries"
      ]
    },
    {
      "cell_type": "code",
      "execution_count": null,
      "metadata": {
        "id": "sCV30xyVhFbE"
      },
      "outputs": [],
      "source": [
        "import tensorflow as tf\n",
        "from keras.preprocessing.image import ImageDataGenerator\n",
        "import matplotlib.pyplot as plt\n",
        "import seaborn as sns"
      ]
    },
    {
      "cell_type": "markdown",
      "metadata": {
        "id": "oxQxCBWyoGPE"
      },
      "source": [
        "### Part 1 - Data Preprocessing"
      ]
    },
    {
      "cell_type": "markdown",
      "metadata": {
        "id": "MvE-heJNo3GG"
      },
      "source": [
        " Preprocessing the Training set"
      ]
    },
    {
      "cell_type": "code",
      "execution_count": null,
      "metadata": {
        "id": "0koUcJMJpEBD",
        "outputId": "779051aa-0815-4210-e976-47002d25e86c"
      },
      "outputs": [
        {
          "name": "stdout",
          "output_type": "stream",
          "text": [
            "Found 2637 images belonging to 2 classes.\n"
          ]
        }
      ],
      "source": [
        "train_datagen = ImageDataGenerator(rescale = 1./255,\n",
        "                                   shear_range = 0.2,\n",
        "                                   zoom_range = 0.2,\n",
        "                                   horizontal_flip = True)\n",
        "training_set = train_datagen.flow_from_directory('cancer_dataset/train',\n",
        "                                                 target_size = (64, 64),\n",
        "                                                 batch_size = 32,\n",
        "                                                 class_mode = 'binary')"
      ]
    },
    {
      "cell_type": "markdown",
      "metadata": {
        "id": "mrCMmGw9pHys"
      },
      "source": [
        " Preprocessing the Test set"
      ]
    },
    {
      "cell_type": "code",
      "execution_count": null,
      "metadata": {
        "id": "E4vnAu28eOki",
        "outputId": "eca8a485-4d5d-4cc4-fce2-957819485487"
      },
      "outputs": [
        {
          "name": "stdout",
          "output_type": "stream",
          "text": [
            "Found 660 images belonging to 2 classes.\n"
          ]
        }
      ],
      "source": [
        "test_datagen = ImageDataGenerator(rescale = 1./255)\n",
        "test_set = test_datagen.flow_from_directory('cancer_dataset/test',\n",
        "                                            target_size = (64, 64),\n",
        "                                            batch_size = 32,\n",
        "                                            class_mode = 'binary')"
      ]
    },
    {
      "cell_type": "markdown",
      "metadata": {
        "id": "af8O4l90gk7B"
      },
      "source": [
        "###Part 2 - Building the CNN"
      ]
    },
    {
      "cell_type": "markdown",
      "metadata": {
        "id": "ces1gXY2lmoX"
      },
      "source": [
        " Initialising the CNN"
      ]
    },
    {
      "cell_type": "code",
      "execution_count": null,
      "metadata": {
        "id": "SAUt4UMPlhLS"
      },
      "outputs": [],
      "source": [
        "cnn = tf.keras.models.Sequential()"
      ]
    },
    {
      "cell_type": "markdown",
      "metadata": {
        "id": "u5YJj_XMl5LF"
      },
      "source": [
        "**Step 1 - Convolution**"
      ]
    },
    {
      "cell_type": "code",
      "execution_count": null,
      "metadata": {
        "id": "XPzPrMckl-hV",
        "outputId": "5371316c-f886-4342-922a-97aaed34528f"
      },
      "outputs": [
        {
          "data": {
            "text/plain": [
              "<keras.layers.normalization.batch_normalization.BatchNormalization at 0x1550f11efa0>"
            ]
          },
          "execution_count": 8,
          "metadata": {},
          "output_type": "execute_result"
        }
      ],
      "source": [
        "cnn.add(tf.keras.layers.Conv2D(filters=32, kernel_size=3, activation='relu', input_shape=[64, 64, 3]))\n",
        "tf.keras.layers.BatchNormalization()"
      ]
    },
    {
      "cell_type": "code",
      "execution_count": null,
      "metadata": {
        "id": "ncpqPl69mOac"
      },
      "outputs": [],
      "source": [
        "cnn.add(tf.keras.layers.MaxPool2D(pool_size=2, strides=2))"
      ]
    },
    {
      "cell_type": "markdown",
      "metadata": {
        "id": "xaTOgD8rm4mU"
      },
      "source": [
        " Adding a second convolutional layer"
      ]
    },
    {
      "cell_type": "code",
      "execution_count": null,
      "metadata": {
        "id": "i_-FZjn_m8gk",
        "outputId": "c74b9bf4-2e0e-4023-c525-a305e4511966"
      },
      "outputs": [
        {
          "data": {
            "text/plain": [
              "<keras.layers.normalization.batch_normalization.BatchNormalization at 0x1550efe16d0>"
            ]
          },
          "execution_count": 10,
          "metadata": {},
          "output_type": "execute_result"
        }
      ],
      "source": [
        "cnn.add(tf.keras.layers.Conv2D(filters=32, kernel_size=3, activation='relu'))\n",
        "tf.keras.layers.BatchNormalization()"
      ]
    },
    {
      "cell_type": "markdown",
      "metadata": {
        "id": "ebCV1E6xTaJR"
      },
      "source": [
        "Adding third Convulution layer"
      ]
    },
    {
      "cell_type": "code",
      "execution_count": null,
      "metadata": {
        "id": "8HOQaW69Tmrt",
        "outputId": "14a9f6ae-4a77-484a-a1f3-860550ead2fb"
      },
      "outputs": [
        {
          "data": {
            "text/plain": [
              "<keras.layers.normalization.batch_normalization.BatchNormalization at 0x1550efe1df0>"
            ]
          },
          "execution_count": 11,
          "metadata": {},
          "output_type": "execute_result"
        }
      ],
      "source": [
        "cnn.add(tf.keras.layers.Conv2D(filters=32, kernel_size=3, activation='relu'))\n",
        "tf.keras.layers.BatchNormalization()"
      ]
    },
    {
      "cell_type": "markdown",
      "metadata": {
        "id": "_P6uBfWWT2MJ"
      },
      "source": [
        "Adding fouth convolution layer"
      ]
    },
    {
      "cell_type": "code",
      "execution_count": null,
      "metadata": {
        "id": "HYexdkGBT4ta",
        "outputId": "dc7bdd96-745c-49ce-8284-c1d5378c9a4f"
      },
      "outputs": [
        {
          "data": {
            "text/plain": [
              "<keras.layers.normalization.batch_normalization.BatchNormalization at 0x1550efecbb0>"
            ]
          },
          "execution_count": 12,
          "metadata": {},
          "output_type": "execute_result"
        }
      ],
      "source": [
        "cnn.add(tf.keras.layers.Conv2D(filters=32, kernel_size=3, activation='relu'))\n",
        "tf.keras.layers.BatchNormalization()"
      ]
    },
    {
      "cell_type": "markdown",
      "metadata": {
        "id": "qiXpxhczUIsW"
      },
      "source": [
        "**Step 2 - Max Pooling**"
      ]
    },
    {
      "cell_type": "code",
      "execution_count": null,
      "metadata": {
        "id": "QmNojnMtUKtx"
      },
      "outputs": [],
      "source": [
        "cnn.add(tf.keras.layers.MaxPool2D(pool_size=2, strides=2))"
      ]
    },
    {
      "cell_type": "markdown",
      "metadata": {
        "id": "tmiEuvTunKfk"
      },
      "source": [
        "**Step 3 - Flattening**"
      ]
    },
    {
      "cell_type": "code",
      "execution_count": null,
      "metadata": {
        "id": "6AZeOGCvnNZn"
      },
      "outputs": [],
      "source": [
        "cnn.add(tf.keras.layers.Flatten())"
      ]
    },
    {
      "cell_type": "markdown",
      "metadata": {
        "id": "H7qL424wURuU"
      },
      "source": [
        "Flattening layer 2"
      ]
    },
    {
      "cell_type": "code",
      "execution_count": null,
      "metadata": {
        "id": "SCkN_QayUTs2",
        "outputId": "175e688a-e774-40ae-c333-937689c7fb08"
      },
      "outputs": [
        {
          "data": {
            "text/plain": [
              "<keras.layers.core.dense.Dense at 0x1550eff9df0>"
            ]
          },
          "execution_count": 15,
          "metadata": {},
          "output_type": "execute_result"
        }
      ],
      "source": [
        "tf.keras.layers.Dense(4096, activation='relu')"
      ]
    },
    {
      "cell_type": "markdown",
      "metadata": {
        "id": "86nsPuv9U1Ob"
      },
      "source": [
        "Flattening layer 3"
      ]
    },
    {
      "cell_type": "code",
      "execution_count": null,
      "metadata": {
        "id": "7uaiaM80U3P_",
        "outputId": "016a5173-7d57-4d75-b63c-8491f381c8e9"
      },
      "outputs": [
        {
          "data": {
            "text/plain": [
              "<keras.layers.core.dense.Dense at 0x1550efec2e0>"
            ]
          },
          "execution_count": 16,
          "metadata": {},
          "output_type": "execute_result"
        }
      ],
      "source": [
        "tf.keras.layers.Dense(4096, activation='relu')"
      ]
    },
    {
      "cell_type": "markdown",
      "metadata": {
        "id": "dAoSECOm203v"
      },
      "source": [
        "**Step 4 - Full Connection**"
      ]
    },
    {
      "cell_type": "code",
      "execution_count": null,
      "metadata": {
        "id": "8GtmUlLd26Nq"
      },
      "outputs": [],
      "source": [
        "cnn.add(tf.keras.layers.Dense(units=128, activation='relu'))"
      ]
    },
    {
      "cell_type": "markdown",
      "metadata": {
        "id": "yTldFvbX28Na"
      },
      "source": [
        "**Step 5 - Output Layer**"
      ]
    },
    {
      "cell_type": "code",
      "execution_count": null,
      "metadata": {
        "id": "1p_Zj1Mc3Ko_"
      },
      "outputs": [],
      "source": [
        "cnn.add(tf.keras.layers.Dense(units=1, activation='sigmoid'))"
      ]
    },
    {
      "cell_type": "markdown",
      "metadata": {
        "id": "D6XkI90snSDl"
      },
      "source": [
        "## Part 3 - Training the CNN"
      ]
    },
    {
      "cell_type": "markdown",
      "metadata": {
        "id": "vfrFQACEnc6i"
      },
      "source": [
        "**Compiling the CNN**"
      ]
    },
    {
      "cell_type": "code",
      "execution_count": null,
      "metadata": {
        "id": "NALksrNQpUlJ"
      },
      "outputs": [],
      "source": [
        "cnn.compile(optimizer = 'adam', loss = 'binary_crossentropy', metrics = ['accuracy'])"
      ]
    },
    {
      "cell_type": "markdown",
      "metadata": {
        "id": "ehS-v3MIpX2h"
      },
      "source": [
        "**Training the CNN on the Training set and evaluating it on the Test set**"
      ]
    },
    {
      "cell_type": "code",
      "execution_count": null,
      "metadata": {
        "id": "XUj1W4PJptta",
        "outputId": "7e2f0f32-8afc-4458-a687-956fcd56a2cc",
        "scrolled": true
      },
      "outputs": [
        {
          "name": "stdout",
          "output_type": "stream",
          "text": [
            "Epoch 1/50\n",
            "83/83 [==============================] - 60s 708ms/step - loss: 0.6596 - accuracy: 0.6049 - val_loss: 0.5719 - val_accuracy: 0.6439\n",
            "Epoch 2/50\n",
            "83/83 [==============================] - 21s 256ms/step - loss: 0.5136 - accuracy: 0.7493 - val_loss: 0.4465 - val_accuracy: 0.7606\n",
            "Epoch 3/50\n",
            "83/83 [==============================] - 20s 244ms/step - loss: 0.4789 - accuracy: 0.7619 - val_loss: 0.4040 - val_accuracy: 0.7879\n",
            "Epoch 4/50\n",
            "83/83 [==============================] - 20s 242ms/step - loss: 0.4185 - accuracy: 0.7922 - val_loss: 0.4342 - val_accuracy: 0.7970\n",
            "Epoch 5/50\n",
            "83/83 [==============================] - 22s 264ms/step - loss: 0.4420 - accuracy: 0.7876 - val_loss: 0.4248 - val_accuracy: 0.7939\n",
            "Epoch 6/50\n",
            "83/83 [==============================] - 20s 241ms/step - loss: 0.4069 - accuracy: 0.7964 - val_loss: 0.3590 - val_accuracy: 0.8318\n",
            "Epoch 7/50\n",
            "83/83 [==============================] - 22s 267ms/step - loss: 0.3989 - accuracy: 0.8043 - val_loss: 0.3713 - val_accuracy: 0.8303\n",
            "Epoch 8/50\n",
            "83/83 [==============================] - 24s 289ms/step - loss: 0.3955 - accuracy: 0.8051 - val_loss: 0.3821 - val_accuracy: 0.8182\n",
            "Epoch 9/50\n",
            "83/83 [==============================] - 22s 262ms/step - loss: 0.3707 - accuracy: 0.8176 - val_loss: 0.3513 - val_accuracy: 0.8212\n",
            "Epoch 10/50\n",
            "83/83 [==============================] - 23s 283ms/step - loss: 0.3638 - accuracy: 0.8180 - val_loss: 0.3691 - val_accuracy: 0.8288\n",
            "Epoch 11/50\n",
            "83/83 [==============================] - 20s 241ms/step - loss: 0.3583 - accuracy: 0.8328 - val_loss: 0.3572 - val_accuracy: 0.8288\n",
            "Epoch 12/50\n",
            "83/83 [==============================] - 22s 262ms/step - loss: 0.3613 - accuracy: 0.8271 - val_loss: 0.3432 - val_accuracy: 0.8288\n",
            "Epoch 13/50\n",
            "83/83 [==============================] - 21s 253ms/step - loss: 0.3472 - accuracy: 0.8278 - val_loss: 0.3562 - val_accuracy: 0.8303\n",
            "Epoch 14/50\n",
            "83/83 [==============================] - 22s 264ms/step - loss: 0.3253 - accuracy: 0.8381 - val_loss: 0.3876 - val_accuracy: 0.8061\n",
            "Epoch 15/50\n",
            "83/83 [==============================] - 23s 281ms/step - loss: 0.3215 - accuracy: 0.8472 - val_loss: 0.3357 - val_accuracy: 0.8500\n",
            "Epoch 16/50\n",
            "83/83 [==============================] - 25s 298ms/step - loss: 0.3317 - accuracy: 0.8366 - val_loss: 0.3564 - val_accuracy: 0.8424\n",
            "Epoch 17/50\n",
            "83/83 [==============================] - 20s 241ms/step - loss: 0.3209 - accuracy: 0.8479 - val_loss: 0.3377 - val_accuracy: 0.8409\n",
            "Epoch 18/50\n",
            "83/83 [==============================] - 20s 246ms/step - loss: 0.3330 - accuracy: 0.8392 - val_loss: 0.3749 - val_accuracy: 0.8273\n",
            "Epoch 19/50\n",
            "83/83 [==============================] - 24s 293ms/step - loss: 0.3175 - accuracy: 0.8506 - val_loss: 0.3358 - val_accuracy: 0.8545\n",
            "Epoch 20/50\n",
            "83/83 [==============================] - 20s 243ms/step - loss: 0.2998 - accuracy: 0.8555 - val_loss: 0.3564 - val_accuracy: 0.8379\n",
            "Epoch 21/50\n",
            "83/83 [==============================] - 20s 241ms/step - loss: 0.3002 - accuracy: 0.8597 - val_loss: 0.3925 - val_accuracy: 0.8303\n",
            "Epoch 22/50\n",
            "83/83 [==============================] - 20s 241ms/step - loss: 0.2975 - accuracy: 0.8646 - val_loss: 0.3434 - val_accuracy: 0.8530\n",
            "Epoch 23/50\n",
            "83/83 [==============================] - 21s 252ms/step - loss: 0.3023 - accuracy: 0.8548 - val_loss: 0.3226 - val_accuracy: 0.8606\n",
            "Epoch 24/50\n",
            "83/83 [==============================] - 20s 240ms/step - loss: 0.2972 - accuracy: 0.8623 - val_loss: 0.3547 - val_accuracy: 0.8439\n",
            "Epoch 25/50\n",
            "83/83 [==============================] - 24s 286ms/step - loss: 0.2863 - accuracy: 0.8639 - val_loss: 0.3454 - val_accuracy: 0.8500\n",
            "Epoch 26/50\n",
            "83/83 [==============================] - 22s 270ms/step - loss: 0.2980 - accuracy: 0.8593 - val_loss: 0.3489 - val_accuracy: 0.8242\n",
            "Epoch 27/50\n",
            "83/83 [==============================] - 21s 249ms/step - loss: 0.2642 - accuracy: 0.8775 - val_loss: 0.3600 - val_accuracy: 0.8561\n",
            "Epoch 28/50\n",
            "83/83 [==============================] - 23s 282ms/step - loss: 0.2834 - accuracy: 0.8722 - val_loss: 0.3386 - val_accuracy: 0.8485\n",
            "Epoch 29/50\n",
            "83/83 [==============================] - 24s 287ms/step - loss: 0.2723 - accuracy: 0.8779 - val_loss: 0.3587 - val_accuracy: 0.8439\n",
            "Epoch 30/50\n",
            "83/83 [==============================] - 21s 251ms/step - loss: 0.2581 - accuracy: 0.8809 - val_loss: 0.3791 - val_accuracy: 0.8409\n",
            "Epoch 31/50\n",
            "83/83 [==============================] - 20s 246ms/step - loss: 0.2524 - accuracy: 0.8817 - val_loss: 0.3500 - val_accuracy: 0.8455\n",
            "Epoch 32/50\n",
            "83/83 [==============================] - 21s 247ms/step - loss: 0.2443 - accuracy: 0.8893 - val_loss: 0.3777 - val_accuracy: 0.8364\n",
            "Epoch 33/50\n",
            "83/83 [==============================] - 22s 266ms/step - loss: 0.2441 - accuracy: 0.8802 - val_loss: 0.3684 - val_accuracy: 0.8364\n",
            "Epoch 34/50\n",
            "83/83 [==============================] - 21s 253ms/step - loss: 0.2383 - accuracy: 0.8969 - val_loss: 0.3780 - val_accuracy: 0.8455\n",
            "Epoch 35/50\n",
            "83/83 [==============================] - 22s 259ms/step - loss: 0.2322 - accuracy: 0.8953 - val_loss: 0.4203 - val_accuracy: 0.8242\n",
            "Epoch 36/50\n",
            "83/83 [==============================] - 22s 268ms/step - loss: 0.2293 - accuracy: 0.9006 - val_loss: 0.4250 - val_accuracy: 0.8455\n",
            "Epoch 37/50\n",
            "83/83 [==============================] - 25s 307ms/step - loss: 0.2433 - accuracy: 0.8984 - val_loss: 0.3895 - val_accuracy: 0.8424\n",
            "Epoch 38/50\n",
            "83/83 [==============================] - 23s 274ms/step - loss: 0.2189 - accuracy: 0.8987 - val_loss: 0.3672 - val_accuracy: 0.8409\n",
            "Epoch 39/50\n",
            "83/83 [==============================] - 22s 261ms/step - loss: 0.2041 - accuracy: 0.9082 - val_loss: 0.4061 - val_accuracy: 0.8273\n",
            "Epoch 40/50\n",
            "83/83 [==============================] - 20s 242ms/step - loss: 0.2008 - accuracy: 0.9173 - val_loss: 0.4260 - val_accuracy: 0.8485\n",
            "Epoch 41/50\n",
            "83/83 [==============================] - 20s 243ms/step - loss: 0.2378 - accuracy: 0.8995 - val_loss: 0.3954 - val_accuracy: 0.8409\n",
            "Epoch 42/50\n",
            "83/83 [==============================] - 21s 247ms/step - loss: 0.2019 - accuracy: 0.9132 - val_loss: 0.4012 - val_accuracy: 0.8424\n",
            "Epoch 43/50\n",
            "83/83 [==============================] - 20s 244ms/step - loss: 0.1902 - accuracy: 0.9173 - val_loss: 0.4163 - val_accuracy: 0.8424\n",
            "Epoch 44/50\n",
            "83/83 [==============================] - 22s 268ms/step - loss: 0.2016 - accuracy: 0.9124 - val_loss: 0.4313 - val_accuracy: 0.8394\n",
            "Epoch 45/50\n",
            "83/83 [==============================] - 20s 244ms/step - loss: 0.1863 - accuracy: 0.9147 - val_loss: 0.4103 - val_accuracy: 0.8394\n",
            "Epoch 46/50\n",
            "83/83 [==============================] - 25s 301ms/step - loss: 0.2152 - accuracy: 0.9082 - val_loss: 0.4484 - val_accuracy: 0.8500\n",
            "Epoch 47/50\n",
            "83/83 [==============================] - 24s 288ms/step - loss: 0.1698 - accuracy: 0.9283 - val_loss: 0.4626 - val_accuracy: 0.8485\n",
            "Epoch 48/50\n",
            "83/83 [==============================] - 25s 298ms/step - loss: 0.1751 - accuracy: 0.9238 - val_loss: 0.4779 - val_accuracy: 0.8500\n",
            "Epoch 49/50\n",
            "83/83 [==============================] - 23s 280ms/step - loss: 0.1604 - accuracy: 0.9355 - val_loss: 0.4722 - val_accuracy: 0.8545\n",
            "Epoch 50/50\n",
            "83/83 [==============================] - 22s 270ms/step - loss: 0.1529 - accuracy: 0.9344 - val_loss: 0.4375 - val_accuracy: 0.8591\n"
          ]
        }
      ],
      "source": [
        "history = cnn.fit(x = training_set, validation_data = test_set, epochs = 50)"
      ]
    },
    {
      "cell_type": "markdown",
      "metadata": {
        "id": "6L1q_Kb9fGMA"
      },
      "source": [
        "**Plotting accuracy and loss graph**"
      ]
    },
    {
      "cell_type": "code",
      "execution_count": null,
      "metadata": {
        "id": "C3S84kR_d7Oi",
        "outputId": "e5b10f77-d42e-4dab-e43a-6372c34dcc89"
      },
      "outputs": [
        {
          "data": {
            "image/png": "[encoded data removed]",
            "text/plain": [
              "<Figure size 432x288 with 1 Axes>"
            ]
          },
          "metadata": {
            "needs_background": "light"
          },
          "output_type": "display_data"
        },
        {
          "data": {
            "image/png": "[encoded data removed]",
            "text/plain": [
              "<Figure size 432x288 with 1 Axes>"
            ]
          },
          "metadata": {
            "needs_background": "light"
          },
          "output_type": "display_data"
        }
      ],
      "source": [
        "#summarizing history for accuracy\n",
        "plt.plot(history.history['accuracy'])\n",
        "plt.plot(history.history['val_accuracy'])\n",
        "plt.title('model accuracy')\n",
        "plt.ylabel('accuracy')\n",
        "plt.xlabel('epoch')\n",
        "plt.legend(['train', 'test'], loc='upper left')\n",
        "plt.show()\n",
        "# summarizing history for loss\n",
        "plt.plot(history.history['loss'])\n",
        "plt.plot(history.history['val_loss'])\n",
        "plt.title('model loss')\n",
        "plt.ylabel('loss')\n",
        "plt.xlabel('epoch')\n",
        "plt.legend(['train', 'test'], loc='upper left')\n",
        "plt.show()"
      ]
    },
    {
      "cell_type": "markdown",
      "source": [
        "### Making Single Prediction"
      ],
      "metadata": {
        "id": "zUWPKuwWnVHR"
      }
    },
    {
      "cell_type": "code",
      "execution_count": null,
      "metadata": {
        "id": "xFmLlERvlqn2",
        "outputId": "9bd1b437-826f-413c-e767-6c5561f40465"
      },
      "outputs": [
        {
          "name": "stdout",
          "output_type": "stream",
          "text": [
            "1/1 [==============================] - 0s 28ms/step\n"
          ]
        }
      ],
      "source": [
        "#MAKING SINGLE PREDICTION\n",
        "import numpy as np\n",
        "from tensorflow.keras.utils import load_img, img_to_array\n",
        "test_image = load_img('cancer_dataset/single_prediction/benign2.jpg', target_size = (64, 64))\n",
        "test_image = img_to_array(test_image)\n",
        "test_image = np.expand_dims(test_image, axis = 0)\n",
        "result = cnn.predict(test_image)\n",
        "training_set.class_indices\n",
        "if result[0][0] == 1:\n",
        "  prediction = 'maligant'\n",
        "else:\n",
        "  prediction = 'benign'"
      ]
    },
    {
      "cell_type": "code",
      "execution_count": null,
      "metadata": {
        "id": "S1mI72K4lqn2",
        "outputId": "6e3ceedb-c2c5-4fed-c20a-4696c06d5bf9"
      },
      "outputs": [
        {
          "name": "stdout",
          "output_type": "stream",
          "text": [
            "benign\n"
          ]
        }
      ],
      "source": [
        "print(prediction)"
      ]
    },
    {
      "cell_type": "markdown",
      "source": [
        "### Conclusion"
      ],
      "metadata": {
        "id": "H47m1qTMneld"
      }
    },
    {
      "cell_type": "markdown",
      "source": [
        "The neural network is able to produce an accuracy of 0.8591(~86% accuracy) to predict two different classes of images related to skin cancer tumour."
      ],
      "metadata": {
        "id": "wtH7xDFbnhG3"
      }
    }
  ],
  "metadata": {
    "colab": {
      "provenance": [],
      "toc_visible": true
    },
    "kernelspec": {
      "display_name": "Python 3 (ipykernel)",
      "language": "python",
      "name": "python3"
    },
    "language_info": {
      "codemirror_mode": {
        "name": "ipython",
        "version": 3
      },
      "file_extension": ".py",
      "mimetype": "text/x-python",
      "name": "python",
      "nbconvert_exporter": "python",
      "pygments_lexer": "ipython3",
      "version": "3.9.7"
    }
  },
  "nbformat": 4,
  "nbformat_minor": 0
}